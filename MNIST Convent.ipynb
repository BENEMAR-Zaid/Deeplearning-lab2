{
 "cells": [
  {
   "cell_type": "code",
   "execution_count": 1,
   "id": "a4ff0e80",
   "metadata": {},
   "outputs": [],
   "source": [
    "import numpy as np\n",
    "from tensorflow import keras\n",
    "from tensorflow.keras import layers"
   ]
  },
  {
   "cell_type": "code",
   "execution_count": 2,
   "id": "cd6f4d95",
   "metadata": {},
   "outputs": [
    {
     "name": "stdout",
     "output_type": "stream",
     "text": [
      "Downloading data from https://storage.googleapis.com/tensorflow/tf-keras-datasets/mnist.npz\n",
      "11490434/11490434 [==============================] - 6s 1us/step\n",
      "x_train shape: (60000, 28, 28, 1)\n",
      "60000 train samples\n",
      "10000 test samples\n"
     ]
    }
   ],
   "source": [
    "# Model / data parameters\n",
    "num_classes = 10\n",
    "input_shape = (28, 28, 1)\n",
    "\n",
    "'''In this step we load the data set and split it into two parts ( Train and test sets ) '''\n",
    "(x_train, y_train), (x_test, y_test) = keras.datasets.mnist.load_data()\n",
    "\n",
    "'''we will standardize values to be in the [0, 1] by deviding values by 255.'''\n",
    "x_train = x_train.astype(\"float32\") / 255\n",
    "x_test = x_test.astype(\"float32\") / 255\n",
    "\n",
    "'''Here we are making sure that images has hight/width equal to 28'''\n",
    "x_train = np.expand_dims(x_train, -1)\n",
    "x_test = np.expand_dims(x_test, -1)\n",
    "print(\"x_train shape:\", x_train.shape)\n",
    "'''Here we will print the size of train/test sets'''\n",
    "print(x_train.shape[0], \"train samples\")\n",
    "print(x_test.shape[0], \"test samples\")\n",
    "\n",
    "\n",
    "# convert class vectors to binary class matrices\n",
    "y_train = keras.utils.to_categorical(y_train, num_classes)\n",
    "y_test = keras.utils.to_categorical(y_test, num_classes)"
   ]
  },
  {
   "cell_type": "code",
   "execution_count": 3,
   "id": "802c59af",
   "metadata": {},
   "outputs": [
    {
     "name": "stdout",
     "output_type": "stream",
     "text": [
      "Model: \"sequential\"\n",
      "_________________________________________________________________\n",
      " Layer (type)                Output Shape              Param #   \n",
      "=================================================================\n",
      " conv2d (Conv2D)             (None, 26, 26, 32)        320       \n",
      "                                                                 \n",
      " max_pooling2d (MaxPooling2D  (None, 13, 13, 32)       0         \n",
      " )                                                               \n",
      "                                                                 \n",
      " conv2d_1 (Conv2D)           (None, 11, 11, 64)        18496     \n",
      "                                                                 \n",
      " max_pooling2d_1 (MaxPooling  (None, 5, 5, 64)         0         \n",
      " 2D)                                                             \n",
      "                                                                 \n",
      " flatten (Flatten)           (None, 1600)              0         \n",
      "                                                                 \n",
      " dropout (Dropout)           (None, 1600)              0         \n",
      "                                                                 \n",
      " dense (Dense)               (None, 10)                16010     \n",
      "                                                                 \n",
      "=================================================================\n",
      "Total params: 34,826\n",
      "Trainable params: 34,826\n",
      "Non-trainable params: 0\n",
      "_________________________________________________________________\n"
     ]
    }
   ],
   "source": [
    "'''Now we will build a NN model and setting hyperparameters. as activation function for the hidden layer will be relu and\n",
    "for output layer will be softmax\n",
    "'''\n",
    "model = keras.Sequential(\n",
    "    [\n",
    "        keras.Input(shape=input_shape),\n",
    "        layers.Conv2D(32, kernel_size=(3, 3), activation=\"relu\"),\n",
    "        layers.MaxPooling2D(pool_size=(2, 2)),\n",
    "        layers.Conv2D(64, kernel_size=(3, 3), activation=\"relu\"),\n",
    "        layers.MaxPooling2D(pool_size=(2, 2)),\n",
    "        layers.Flatten(),\n",
    "        layers.Dropout(0.5),\n",
    "        layers.Dense(num_classes, activation=\"softmax\"),\n",
    "    ]\n",
    ")\n",
    "\n",
    "model.summary()"
   ]
  },
  {
   "cell_type": "code",
   "execution_count": 4,
   "id": "24774305",
   "metadata": {},
   "outputs": [
    {
     "name": "stdout",
     "output_type": "stream",
     "text": [
      "Epoch 1/15\n",
      "422/422 [==============================] - 21s 46ms/step - loss: 0.3610 - accuracy: 0.8902 - val_loss: 0.0846 - val_accuracy: 0.9760\n",
      "Epoch 2/15\n",
      "422/422 [==============================] - 17s 40ms/step - loss: 0.1172 - accuracy: 0.9640 - val_loss: 0.0576 - val_accuracy: 0.9852\n",
      "Epoch 3/15\n",
      "422/422 [==============================] - 18s 43ms/step - loss: 0.0899 - accuracy: 0.9728 - val_loss: 0.0463 - val_accuracy: 0.9888\n",
      "Epoch 4/15\n",
      "422/422 [==============================] - 18s 43ms/step - loss: 0.0751 - accuracy: 0.9770 - val_loss: 0.0407 - val_accuracy: 0.9898\n",
      "Epoch 5/15\n",
      "422/422 [==============================] - 18s 43ms/step - loss: 0.0653 - accuracy: 0.9791 - val_loss: 0.0390 - val_accuracy: 0.9902\n",
      "Epoch 6/15\n",
      "422/422 [==============================] - 18s 43ms/step - loss: 0.0579 - accuracy: 0.9824 - val_loss: 0.0378 - val_accuracy: 0.9900\n",
      "Epoch 7/15\n",
      "422/422 [==============================] - 19s 44ms/step - loss: 0.0542 - accuracy: 0.9824 - val_loss: 0.0345 - val_accuracy: 0.9907\n",
      "Epoch 8/15\n",
      "422/422 [==============================] - 19s 44ms/step - loss: 0.0497 - accuracy: 0.9844 - val_loss: 0.0339 - val_accuracy: 0.9915\n",
      "Epoch 9/15\n",
      "422/422 [==============================] - 18s 43ms/step - loss: 0.0457 - accuracy: 0.9858 - val_loss: 0.0327 - val_accuracy: 0.9908\n",
      "Epoch 10/15\n",
      "422/422 [==============================] - 19s 44ms/step - loss: 0.0428 - accuracy: 0.9862 - val_loss: 0.0323 - val_accuracy: 0.9907\n",
      "Epoch 11/15\n",
      "422/422 [==============================] - 19s 45ms/step - loss: 0.0408 - accuracy: 0.9868 - val_loss: 0.0330 - val_accuracy: 0.9912\n",
      "Epoch 12/15\n",
      "422/422 [==============================] - 19s 45ms/step - loss: 0.0390 - accuracy: 0.9880 - val_loss: 0.0332 - val_accuracy: 0.9917\n",
      "Epoch 13/15\n",
      "422/422 [==============================] - 21s 49ms/step - loss: 0.0368 - accuracy: 0.9880 - val_loss: 0.0334 - val_accuracy: 0.9918\n",
      "Epoch 14/15\n",
      "422/422 [==============================] - 19s 46ms/step - loss: 0.0337 - accuracy: 0.9889 - val_loss: 0.0295 - val_accuracy: 0.9913\n",
      "Epoch 15/15\n",
      "422/422 [==============================] - 19s 44ms/step - loss: 0.0341 - accuracy: 0.9886 - val_loss: 0.0307 - val_accuracy: 0.9923\n"
     ]
    },
    {
     "data": {
      "text/plain": [
       "<keras.callbacks.History at 0x1e2247321d0>"
      ]
     },
     "execution_count": 4,
     "metadata": {},
     "output_type": "execute_result"
    }
   ],
   "source": [
    "'''we will fit our model befor the test, we choosed categorical_crossentropy as loss function and adam instead of GD \n",
    "as optimizer'''\n",
    "batch_size = 128\n",
    "epochs = 15\n",
    "\n",
    "model.compile(loss=\"categorical_crossentropy\", optimizer=\"adam\", metrics=[\"accuracy\"])\n",
    "\n",
    "model.fit(x_train, y_train, batch_size=batch_size, epochs=epochs, validation_split=0.1)"
   ]
  },
  {
   "cell_type": "code",
   "execution_count": 5,
   "id": "df6f129f",
   "metadata": {},
   "outputs": [
    {
     "name": "stdout",
     "output_type": "stream",
     "text": [
      "Test loss: 0.026121802628040314\n",
      "Test accuracy: 0.9916999936103821\n"
     ]
    }
   ],
   "source": [
    "score = model.evaluate(x_test, y_test, verbose=0)\n",
    "print(\"Test loss:\", score[0])\n",
    "print(\"Test accuracy:\", score[1])"
   ]
  },
  {
   "cell_type": "raw",
   "id": "06de3984",
   "metadata": {},
   "source": [
    "In this example we build a simple image recognition using The MNIST database of handwritten digits.\n",
    "we have import the dataset from keras library and split it into train/test sets then normalize each pixel in our images by deviding it by 255. so each pixel will be a number in [0,1] and that fast up training the model.\n",
    "as activation function we used relu in hidden layer and softmax in output layer.\n",
    "The model is evaluated by the accuracy method."
   ]
  }
 ],
 "metadata": {
  "kernelspec": {
   "display_name": "Python 3 (ipykernel)",
   "language": "python",
   "name": "python3"
  },
  "language_info": {
   "codemirror_mode": {
    "name": "ipython",
    "version": 3
   },
   "file_extension": ".py",
   "mimetype": "text/x-python",
   "name": "python",
   "nbconvert_exporter": "python",
   "pygments_lexer": "ipython3",
   "version": "3.10.2"
  }
 },
 "nbformat": 4,
 "nbformat_minor": 5
}
